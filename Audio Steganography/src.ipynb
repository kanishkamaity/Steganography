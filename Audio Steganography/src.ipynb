{
  "nbformat": 4,
  "nbformat_minor": 0,
  "metadata": {
    "colab": {
      "provenance": []
    },
    "kernelspec": {
      "name": "python3",
      "display_name": "Python 3"
    },
    "language_info": {
      "name": "python"
    }
  },
  "cells": [
    {
      "cell_type": "code",
      "source": [
        "from google.colab import drive\n",
        "drive.mount('/content/drive')"
      ],
      "metadata": {
        "colab": {
          "base_uri": "https://localhost:8080/"
        },
        "id": "YgZpgtejKt35",
        "outputId": "3c606e32-6a7c-4970-aa89-b697e204425a"
      },
      "execution_count": 1,
      "outputs": [
        {
          "output_type": "stream",
          "name": "stdout",
          "text": [
            "Mounted at /content/drive\n"
          ]
        }
      ]
    },
    {
      "cell_type": "code",
      "source": [
        "import wave\n",
        "import math"
      ],
      "metadata": {
        "id": "9vgTeHSDKvV8"
      },
      "execution_count": 2,
      "outputs": []
    },
    {
      "cell_type": "markdown",
      "source": [
        "\n",
        "#Function to define the positions of the bits to change\n"
      ],
      "metadata": {
        "id": "HVry3075ND62"
      }
    },
    {
      "cell_type": "code",
      "source": [
        "def sequence_generator(byte_array_length,key,message_length):\n",
        "  \n",
        "  bits = []\n",
        "  n = byte_array_length\n",
        "  key = int(key)\n",
        "\n",
        "  for i in range(message_length):\n",
        "    position = (15485863*key + 2038074743*i)%n\n",
        "    while(position in range(0,33)):\n",
        "      position = (15485863*key + 2038074743*i)%n\n",
        "      \n",
        "    bits.append(position)\n",
        "\n",
        "  return bits"
      ],
      "metadata": {
        "id": "2L1pc1mQMaNc"
      },
      "execution_count": 3,
      "outputs": []
    },
    {
      "cell_type": "markdown",
      "source": [
        "#Function to encode the message in the audio"
      ],
      "metadata": {
        "id": "HquG2STqNLf4"
      }
    },
    {
      "cell_type": "code",
      "source": [
        "def encode(byte_array,key,message,audio_output_path):\n",
        "    # Convert the text data to a bit array\n",
        "    message = [int(i) for i in ''.join([bin(ord(c)).lstrip('0b').rjust(8,'0') for c in message])]\n",
        "\n",
        "    message_len = len(message)\n",
        "\n",
        "    message_len_bin = bin(message_len)[2:].zfill(32)\n",
        "    \n",
        "    message_len_bin = list(message_len_bin)\n",
        "    \n",
        "    for i in range(0,32):\n",
        "      byte_array[i] = ((byte_array[i] & 254) | int(message_len_bin[i]))\n",
        "\n",
        "    positions = sequence_generator(len(byte_array),key,message_len)\n",
        "    \n",
        "    # Iterate over the text bits and hide them in the LSB of the audio data\n",
        "    for i in range(len(positions)):\n",
        "        byte_array[positions[i]] = ((byte_array[positions[i]] & 254) | message[i])\n",
        "\n",
        "    return byte_array"
      ],
      "metadata": {
        "id": "lwQRd0HVQdHm"
      },
      "execution_count": 4,
      "outputs": []
    },
    {
      "cell_type": "code",
      "source": [
        "def run_encode(audio_path,key,message,audio_output_path):\n",
        "  # Open the audio file in read mode\n",
        "  with wave.open(audio_path, \"rb\") as audio_file:\n",
        "    # Read the frames of the audio file\n",
        "    frames = audio_file.readframes(-1)\n",
        "    # Convert the frames to a byte array\n",
        "    byte_array = bytearray(frames)\n",
        "    byte_array = encode(byte_array,key,message,audio_output_path)\n",
        "  \n",
        "  # Write the modified audio data to a new file\n",
        "    with wave.open(audio_output_path, \"wb\") as hidden_audio:\n",
        "        hidden_audio.setparams(audio_file.getparams())\n",
        "        hidden_audio.writeframes(byte_array)\n",
        "  \n",
        "  return \"The data has been hidden successfully\""
      ],
      "metadata": {
        "id": "YSxx__LNm_lc"
      },
      "execution_count": 5,
      "outputs": []
    },
    {
      "cell_type": "markdown",
      "source": [
        "#Function to decode the audio"
      ],
      "metadata": {
        "id": "ARMSp7gQNQP7"
      }
    },
    {
      "cell_type": "code",
      "source": [
        "def run_decode(audio_output_path,key):\n",
        "  with wave.open(audio_output_path, \"rb\") as audio_file:\n",
        "    # Read the frames of the audio file\n",
        "    frames = audio_file.readframes(-1)\n",
        "    # Convert the frames to a byte array\n",
        "    byte_array = bytearray(frames)\n",
        "\n",
        "  message_len_bin = \"\"\n",
        "  for i in range(0,32):\n",
        "    bit = bin(byte_array[i])[2:].zfill(8)\n",
        "    message_len_bin += str(bit[-1])\n",
        "\n",
        "  message_len = int(message_len_bin,2)\n",
        "\n",
        "  positions = sequence_generator(len(byte_array),key,message_len)\n",
        "  \n",
        "  message = []\n",
        "\n",
        "  for i in range(len(positions)):\n",
        "    message.append(byte_array[positions[i]] & 1)\n",
        "  \n",
        "  text = ''.join([chr(int(i, 2)) for i in [''.join(map(str,message[i:i+8])) for i in range(0, len(message), 8)]])\n",
        "\n",
        "  return text\n"
      ],
      "metadata": {
        "id": "42re7T0XMLlM"
      },
      "execution_count": 6,
      "outputs": []
    },
    {
      "cell_type": "markdown",
      "source": [
        "#Run the program"
      ],
      "metadata": {
        "id": "oCmBTZ8INUUz"
      }
    },
    {
      "cell_type": "code",
      "source": [
        "audio_path = input(\"Enter audio path:\")\n",
        "key = input(\"Enter key:\")\n",
        "message = input(\"Enter message:\")\n",
        "\n",
        "audio_output_path = input(\"Enter output path for audio:\")\n",
        "\n",
        "print(run_encode(audio_path,key,message,audio_output_path))\n",
        "print(\"The decoded text from the audio is:\",run_decode(audio_output_path,key))"
      ],
      "metadata": {
        "id": "GMPaBvSQLWNW",
        "colab": {
          "base_uri": "https://localhost:8080/"
        },
        "outputId": "b6cda47f-2ec9-442b-aeee-14264adcfabe"
      },
      "execution_count": 8,
      "outputs": [
        {
          "output_type": "stream",
          "name": "stdout",
          "text": [
            "Enter audio path:/content/cover_audio.wav\n",
            "Enter key:4321\n",
            "Enter message:hekko\n",
            "Enter output path for audio:/content/cover_audio_out.wav\n",
            "The data has been hidden successfully\n",
            "The decoded text from the audio is: hekko\n"
          ]
        }
      ]
    }
  ]
}