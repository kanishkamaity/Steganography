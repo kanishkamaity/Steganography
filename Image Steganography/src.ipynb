{
  "nbformat": 4,
  "nbformat_minor": 0,
  "metadata": {
    "colab": {
      "provenance": []
    },
    "kernelspec": {
      "name": "python3",
      "display_name": "Python 3"
    },
    "language_info": {
      "name": "python"
    }
  },
  "cells": [
    {
      "cell_type": "markdown",
      "source": [
        "## How to execute in colab\n",
        "Upload image and secret key file  in the colab environment and then execute as per your required sections.\n",
        "\n",
        "\n",
        "## How to encode my image\n",
        "look for \"run here to encode\"\n",
        "\n",
        "## How to decode my image\n",
        "look for \"run here to decode\"\n"
      ],
      "metadata": {
        "id": "C461m6lsW0EI"
      }
    },
    {
      "cell_type": "markdown",
      "source": [
        "### Change paths aur secret text in the following "
      ],
      "metadata": {
        "id": "t6nm0sC5riIi"
      }
    },
    {
      "cell_type": "code",
      "source": [
        "input_image = input(\"Enter the path to input image\")\n",
        "output_image = input(\"Enter the path to output image\")\n",
        "delimiter = \"=====\"\n",
        "data_to_hide=input(\"Enter the secret data : \\n\")\n",
        "secret_data = data_to_hide + delimiter\n"
      ],
      "metadata": {
        "id": "DXcysbgxrhD4",
        "outputId": "9e84b746-a00d-4b8b-b25f-1a083301affb",
        "colab": {
          "base_uri": "https://localhost:8080/"
        }
      },
      "execution_count": null,
      "outputs": [
        {
          "name": "stdout",
          "output_type": "stream",
          "text": [
            "Enter the path to input image/content/Cover_2.png\n",
            "Enter the path to output image/content/Cover_4.png\n",
            "Enter the secret data : \n",
            "janhavi\n"
          ]
        }
      ]
    },
    {
      "cell_type": "code",
      "source": [
        "from google.colab import drive\n",
        "drive.mount('/content/drive')"
      ],
      "metadata": {
        "id": "sca962IyF5KJ",
        "outputId": "5829fbfc-46f3-4741-d591-b5e43e8b8751",
        "colab": {
          "base_uri": "https://localhost:8080/"
        }
      },
      "execution_count": null,
      "outputs": [
        {
          "output_type": "stream",
          "name": "stdout",
          "text": [
            "Drive already mounted at /content/drive; to attempt to forcibly remount, call drive.mount(\"/content/drive\", force_remount=True).\n"
          ]
        }
      ]
    },
    {
      "cell_type": "markdown",
      "source": [
        "Imports"
      ],
      "metadata": {
        "id": "mU9kIwrsStdH"
      }
    },
    {
      "cell_type": "code",
      "execution_count": null,
      "metadata": {
        "id": "guwJDTcwPpsn"
      },
      "outputs": [],
      "source": [
        "import cv2\n",
        "import numpy as np"
      ]
    },
    {
      "cell_type": "markdown",
      "source": [
        "## Load Key "
      ],
      "metadata": {
        "id": "VsC0NSgASyFL"
      }
    },
    {
      "cell_type": "code",
      "source": [
        "def get_key():\n",
        "    myfile = open('/content/secret_key.txt', 'rt') \n",
        "    key1 = myfile.read()        \n",
        "    myfile.close()                   \n",
        "    return key1\n",
        "get_key()"
      ],
      "metadata": {
        "id": "fYWsiClKP3IK",
        "outputId": "ac3a10ae-76ae-44b9-e5ba-31cb2a83f6b2",
        "colab": {
          "base_uri": "https://localhost:8080/",
          "height": 36
        }
      },
      "execution_count": null,
      "outputs": [
        {
          "output_type": "execute_result",
          "data": {
            "text/plain": [
              "'hello\\n'"
            ],
            "application/vnd.google.colaboratory.intrinsic+json": {
              "type": "string"
            }
          },
          "metadata": {},
          "execution_count": 6
        }
      ]
    },
    {
      "cell_type": "code",
      "source": [
        "from IPython.display import Image\n",
        "Image('/content/Cover_2.png')\n"
      ],
      "metadata": {
        "id": "_lzyYISgruFB",
        "outputId": "b629e292-412e-47cb-810f-0287087831ef",
        "colab": {
          "base_uri": "https://localhost:8080/",
          "height": 239
        }
      },
      "execution_count": null,
      "outputs": [
        {
          "output_type": "execute_result",
          "data": {
            "image/png": "[encoded data removed]",
            "text/plain": [
              "<IPython.core.display.Image object>"
            ]
          },
          "metadata": {},
          "execution_count": 34
        }
      ]
    },
    {
      "cell_type": "markdown",
      "source": [
        "## Convert To Binary"
      ],
      "metadata": {
        "id": "C2WxdYyES2Iv"
      }
    },
    {
      "cell_type": "code",
      "source": [
        "def to_bin(data):\n",
        "    \"\"\"Convert `data` to binary format as string\"\"\"\n",
        "    if isinstance(data, str):\n",
        "        return ''.join([ format(ord(i), \"08b\") for i in data ])\n",
        "    elif isinstance(data, bytes) or isinstance(data, np.ndarray):\n",
        "        return [ format(i, \"08b\") for i in data ]\n",
        "    elif isinstance(data, int) or isinstance(data, np.uint8):\n",
        "        return format(data, \"08b\")\n",
        "    else:\n",
        "        raise TypeError(\"Type not supported.\")"
      ],
      "metadata": {
        "id": "bf6_tBCiP7OI"
      },
      "execution_count": null,
      "outputs": []
    },
    {
      "cell_type": "markdown",
      "source": [
        "Common Operations"
      ],
      "metadata": {
        "id": "zW9CBZNusavs"
      }
    },
    {
      "cell_type": "code",
      "source": [
        "binary_secret_data = to_bin(secret_data)\n",
        "n = len(binary_secret_data)"
      ],
      "metadata": {
        "id": "tUkWIi8EsdZo"
      },
      "execution_count": null,
      "outputs": []
    },
    {
      "cell_type": "markdown",
      "source": [
        "# Encode The Data in Image"
      ],
      "metadata": {
        "id": "zkkvUO5vS54D"
      }
    },
    {
      "cell_type": "code",
      "source": [
        "def encode(key, image_name, secret_data):\n",
        "    \n",
        "    image = cv2.imread(image_name)\n",
        "    \n",
        "    n_bytes = image.shape[0] * image.shape[1] * 3 // 8\n",
        "    print(\"[*] Maximum bytes to encode:\", n_bytes)\n",
        "    if len(secret_data) > n_bytes:\n",
        "        raise ValueError(\"[!] Insufficient bytes, need bigger image or less data.\")\n",
        "    print(\"[*] Encoding data...\")\n",
        "    \n",
        "    \n",
        "   \n",
        "    data_index = 0\n",
        "    \n",
        "    binary_secret_data = to_bin(secret_data)\n",
        "    binary_key = to_bin(key)\n",
        "    \n",
        "    enc_data = ([])\n",
        "    for i in range(0, len(binary_secret_data)): \n",
        "         enc_data.append(int(binary_secret_data[i]) ^ int(binary_key[i%8]))\n",
        "\n",
        "    \n",
        "\n",
        "    data_len = len(enc_data)\n",
        "    for row in image:\n",
        "        for pixel in row:\n",
        "            r, g, b = to_bin(pixel)\n",
        "            \n",
        "            if ((data_index < data_len) and (( int(r[-2]) ^ int(binary_key[(data_index)%8])) == 1)):\n",
        "                pixel[0] = int(r[:-1] + str(enc_data[data_index]), 2)\n",
        "                data_index += 1\n",
        "            if ((data_index < data_len) and (( int(g[-2]) ^ int(binary_key[(data_index)%8])) == 1)):\n",
        "                \n",
        "                pixel[1] = int(g[:-1] + str(enc_data[data_index]), 2)\n",
        "                data_index += 1\n",
        "            if ((data_index < data_len) and (( int(b[-2]) ^ int(binary_key[(data_index)%8])) == 1)):\n",
        "                \n",
        "                pixel[2] = int(b[:-1] + str(enc_data[data_index]), 2)\n",
        "                data_index += 1\n",
        "            \n",
        "            if data_index >= data_len:\n",
        "                break\n",
        "    return image\n"
      ],
      "metadata": {
        "id": "ONyFVXZzQAVY"
      },
      "execution_count": null,
      "outputs": []
    },
    {
      "cell_type": "markdown",
      "source": [
        "## Run here to encode"
      ],
      "metadata": {
        "id": "HTH6JAulpXJT"
      }
    },
    {
      "cell_type": "code",
      "source": [
        "encoded_image = encode(data_to_hide, image_name=input_image, secret_data=secret_data)\n",
        "print(\"Data encoded and Image generated\")\n",
        "\n",
        "cv2.imwrite(output_image, encoded_image)\n",
        " "
      ],
      "metadata": {
        "id": "HLMTEvfXpHSU",
        "outputId": "2822db69-0ab2-4227-faf7-92711b6b84a0",
        "colab": {
          "base_uri": "https://localhost:8080/"
        }
      },
      "execution_count": null,
      "outputs": [
        {
          "output_type": "stream",
          "name": "stdout",
          "text": [
            "[*] Maximum bytes to encode: 18564\n",
            "[*] Encoding data...\n",
            "Data encoded and Image generated\n"
          ]
        },
        {
          "output_type": "execute_result",
          "data": {
            "text/plain": [
              "True"
            ]
          },
          "metadata": {},
          "execution_count": 28
        }
      ]
    },
    {
      "cell_type": "markdown",
      "source": [
        "# Decode The Data from Image"
      ],
      "metadata": {
        "id": "khhDF32FTICl"
      }
    },
    {
      "cell_type": "code",
      "source": [
        "def decode(key, image_name):\n",
        "    print(\"[+] Decoding...\")\n",
        "    \n",
        "    image = cv2.imread(image_name)\n",
        "    binary_data = \"\"\n",
        "    data_index = 0\n",
        "    binary_key = to_bin(key)\n",
        "    for row in image:\n",
        "        for pixel in row:\n",
        "            r, g, b = to_bin(pixel)\n",
        "            if ((( int(r[-2]) ^ int(binary_key[(data_index)%8])) == 1)):\n",
        "                \n",
        "                binary_data += r[-1]\n",
        "                data_index += 1\n",
        "            if ((( int(g[-2]) ^ int(binary_key[(data_index)%8]) ) == 1)):\n",
        "                \n",
        "                binary_data += g[-1]\n",
        "                data_index += 1\n",
        "            if ((( int(b[-2]) ^ int(binary_key[(data_index)%8]) ) == 1)):\n",
        "                \n",
        "                binary_data += b[-1]\n",
        "                data_index += 1\n",
        "\n",
        "            if data_index > n:\n",
        "                break\n",
        "\n",
        "    all_bytes = [ binary_data[i: i+8] for i in range(0, len(binary_data), 8) ]\n",
        "    \n",
        "    \n",
        "\n",
        "    dec_data = []\n",
        "    \n",
        "    for i in range(0, len(all_bytes)-1):\n",
        "        dec_str = \"\"\n",
        "        for j in range(0,8): \n",
        "            dec_str += str(int(binary_data[i*8 + j]) ^ int(binary_key[j]))\n",
        "        dec_data.append(dec_str)\n",
        "\n",
        "    \n",
        "\n",
        "    decoded_data = \"\"\n",
        "    for byte in dec_data:\n",
        "        decoded_data += chr(int(byte, 2))\n",
        "        if decoded_data[-5:] == '=====' :\n",
        "            break\n",
        "    \n",
        "    return decoded_data[:-5]\n"
      ],
      "metadata": {
        "id": "8Q2-Py8QQDpc"
      },
      "execution_count": null,
      "outputs": []
    },
    {
      "cell_type": "markdown",
      "source": [
        "## Run here to decode image"
      ],
      "metadata": {
        "id": "M2JFsZbFp0vc"
      }
    },
    {
      "cell_type": "code",
      "source": [
        "key = get_key()\n",
        "decoded_data = decode(data_to_hide, output_image)\n",
        "print(\"[+] Decoded data:\", decoded_data)"
      ],
      "metadata": {
        "id": "6y4NaPLBp9X_",
        "outputId": "39b808ca-b0cc-4e22-e98b-93e24c7d9d5d",
        "colab": {
          "base_uri": "https://localhost:8080/"
        }
      },
      "execution_count": null,
      "outputs": [
        {
          "output_type": "stream",
          "name": "stdout",
          "text": [
            "[+] Decoding...\n",
            "[+] Decoded data: janhavi\n"
          ]
        }
      ]
    },
    {
      "cell_type": "markdown",
      "source": [
        "## Calculate PSNR"
      ],
      "metadata": {
        "id": "RW8D0lUWTUE8"
      }
    },
    {
      "cell_type": "code",
      "source": [
        "def calculate_PSNR(input_path,output_path):\n",
        "    input_image = cv2.imread(input_path)\n",
        "    output_image = cv2.imread( output_path)\n",
        "\n",
        "    psnr = cv2.PSNR(input_image, output_image)\n",
        "    print(psnr)\n",
        "    "
      ],
      "metadata": {
        "id": "Vm8E1lH2QG3A"
      },
      "execution_count": null,
      "outputs": []
    },
    {
      "cell_type": "code",
      "source": [
        "calculate_PSNR(input_image, output_image)"
      ],
      "metadata": {
        "id": "Q3wY0vgBQJD3",
        "outputId": "42c9b857-783d-4a4d-fcb5-afb42dc692ec",
        "colab": {
          "base_uri": "https://localhost:8080/"
        }
      },
      "execution_count": null,
      "outputs": [
        {
          "output_type": "stream",
          "name": "stdout",
          "text": [
            "82.44496763592119\n"
          ]
        }
      ]
    },
    {
      "cell_type": "code",
      "source": [],
      "metadata": {
        "id": "aGI0d31bywXE"
      },
      "execution_count": null,
      "outputs": []
    }
  ]
}